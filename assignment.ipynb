{
  "nbformat": 4,
  "nbformat_minor": 0,
  "metadata": {
    "colab": {
      "name": "assignment.ipynb",
      "provenance": [],
      "collapsed_sections": [],
      "toc_visible": true
    },
    "kernelspec": {
      "name": "python3",
      "display_name": "Python 3"
    },
    "accelerator": "GPU"
  },
  "cells": [
    {
      "cell_type": "markdown",
      "metadata": {
        "id": "QDWKukvbCpGK"
      },
      "source": [
        "### **CALL LOG PREDICTION**"
      ]
    },
    {
      "cell_type": "code",
      "metadata": {
        "colab": {
          "base_uri": "https://localhost:8080/"
        },
        "id": "e_JfC38IPra1",
        "outputId": "0b2b4ab8-c33f-485f-bd87-a6dffcafce7c"
      },
      "source": [
        "!pip install scikit-plot"
      ],
      "execution_count": null,
      "outputs": [
        {
          "output_type": "stream",
          "text": [
            "Collecting scikit-plot\n",
            "  Downloading https://files.pythonhosted.org/packages/7c/47/32520e259340c140a4ad27c1b97050dd3254fdc517b1d59974d47037510e/scikit_plot-0.3.7-py3-none-any.whl\n",
            "Requirement already satisfied: scipy>=0.9 in /usr/local/lib/python3.7/dist-packages (from scikit-plot) (1.4.1)\n",
            "Requirement already satisfied: joblib>=0.10 in /usr/local/lib/python3.7/dist-packages (from scikit-plot) (1.0.1)\n",
            "Requirement already satisfied: matplotlib>=1.4.0 in /usr/local/lib/python3.7/dist-packages (from scikit-plot) (3.2.2)\n",
            "Requirement already satisfied: scikit-learn>=0.18 in /usr/local/lib/python3.7/dist-packages (from scikit-plot) (0.22.2.post1)\n",
            "Requirement already satisfied: numpy>=1.13.3 in /usr/local/lib/python3.7/dist-packages (from scipy>=0.9->scikit-plot) (1.19.5)\n",
            "Requirement already satisfied: cycler>=0.10 in /usr/local/lib/python3.7/dist-packages (from matplotlib>=1.4.0->scikit-plot) (0.10.0)\n",
            "Requirement already satisfied: kiwisolver>=1.0.1 in /usr/local/lib/python3.7/dist-packages (from matplotlib>=1.4.0->scikit-plot) (1.3.1)\n",
            "Requirement already satisfied: python-dateutil>=2.1 in /usr/local/lib/python3.7/dist-packages (from matplotlib>=1.4.0->scikit-plot) (2.8.1)\n",
            "Requirement already satisfied: pyparsing!=2.0.4,!=2.1.2,!=2.1.6,>=2.0.1 in /usr/local/lib/python3.7/dist-packages (from matplotlib>=1.4.0->scikit-plot) (2.4.7)\n",
            "Requirement already satisfied: six in /usr/local/lib/python3.7/dist-packages (from cycler>=0.10->matplotlib>=1.4.0->scikit-plot) (1.15.0)\n",
            "Installing collected packages: scikit-plot\n",
            "Successfully installed scikit-plot-0.3.7\n"
          ],
          "name": "stdout"
        }
      ]
    },
    {
      "cell_type": "markdown",
      "metadata": {
        "id": "lD1E6ykIDsAC"
      },
      "source": [
        "### Importing Essential Libraries"
      ]
    },
    {
      "cell_type": "code",
      "metadata": {
        "id": "fBEsQQLWy5XB",
        "colab": {
          "base_uri": "https://localhost:8080/"
        },
        "outputId": "8f9523b4-3485-49e1-bdd1-88d8276c957c"
      },
      "source": [
        "import numpy as np\r\n",
        "import pandas as pd\r\n",
        "import matplotlib.pyplot as plt\r\n",
        "\r\n",
        "from sklearn.model_selection import KFold, cross_val_score, train_test_split, ShuffleSplit, GridSearchCV\r\n",
        "from sklearn.metrics import accuracy_score, recall_score, classification_report, confusion_matrix,f1_score, make_scorer, plot_roc_curve\r\n",
        "from sklearn.impute import SimpleImputer\r\n",
        "from sklearn.compose import ColumnTransformer\r\n",
        "from sklearn.preprocessing import OneHotEncoder, LabelEncoder, StandardScaler, Normalizer\r\n",
        "from sklearn.utils import resample\r\n",
        "from sklearn.ensemble import RandomForestClassifier\r\n",
        "from sklearn.svm import SVC\r\n",
        "from imblearn.over_sampling import SMOTE\r\n",
        "from sklearn.ensemble import RandomForestClassifier\r\n",
        "from sklearn.naive_bayes import GaussianNB\r\n",
        "from sklearn.neural_network import MLPClassifier\r\n",
        "\r\n",
        "from yellowbrick.classifier import ClassificationReport\r\n",
        "import seaborn as sns"
      ],
      "execution_count": null,
      "outputs": [
        {
          "output_type": "stream",
          "text": [
            "/usr/local/lib/python3.7/dist-packages/sklearn/externals/six.py:31: FutureWarning: The module is deprecated in version 0.21 and will be removed in version 0.23 since we've dropped support for Python 2.7. Please rely on the official version of six (https://pypi.org/project/six/).\n",
            "  \"(https://pypi.org/project/six/).\", FutureWarning)\n",
            "/usr/local/lib/python3.7/dist-packages/sklearn/utils/deprecation.py:144: FutureWarning: The sklearn.neighbors.base module is  deprecated in version 0.22 and will be removed in version 0.24. The corresponding classes / functions should instead be imported from sklearn.neighbors. Anything that cannot be imported from sklearn.neighbors is now part of the private API.\n",
            "  warnings.warn(message, FutureWarning)\n",
            "/usr/local/lib/python3.7/dist-packages/sklearn/utils/deprecation.py:144: FutureWarning: The sklearn.metrics.classification module is  deprecated in version 0.22 and will be removed in version 0.24. The corresponding classes / functions should instead be imported from sklearn.metrics. Anything that cannot be imported from sklearn.metrics is now part of the private API.\n",
            "  warnings.warn(message, FutureWarning)\n"
          ],
          "name": "stderr"
        }
      ]
    },
    {
      "cell_type": "markdown",
      "metadata": {
        "id": "W2KR2Y7AEkDJ"
      },
      "source": [
        "### Importing the dataset"
      ]
    },
    {
      "cell_type": "code",
      "metadata": {
        "id": "fVAejvXSzKB6"
      },
      "source": [
        "dataset = pd.read_csv('/content/drive/MyDrive/term-deposit-marketing-2020.csv')"
      ],
      "execution_count": null,
      "outputs": []
    },
    {
      "cell_type": "markdown",
      "metadata": {
        "id": "kw_qCllIX9EV"
      },
      "source": [
        "### Displaying the dataset"
      ]
    },
    {
      "cell_type": "code",
      "metadata": {
        "colab": {
          "base_uri": "https://localhost:8080/",
          "height": 204
        },
        "id": "k_zxZczhVmhl",
        "outputId": "5013a578-c460-4522-9d7f-0c82b4bc7fb8"
      },
      "source": [
        "dataset.head()"
      ],
      "execution_count": null,
      "outputs": [
        {
          "output_type": "execute_result",
          "data": {
            "text/html": [
              "<div>\n",
              "<style scoped>\n",
              "    .dataframe tbody tr th:only-of-type {\n",
              "        vertical-align: middle;\n",
              "    }\n",
              "\n",
              "    .dataframe tbody tr th {\n",
              "        vertical-align: top;\n",
              "    }\n",
              "\n",
              "    .dataframe thead th {\n",
              "        text-align: right;\n",
              "    }\n",
              "</style>\n",
              "<table border=\"1\" class=\"dataframe\">\n",
              "  <thead>\n",
              "    <tr style=\"text-align: right;\">\n",
              "      <th></th>\n",
              "      <th>age</th>\n",
              "      <th>job</th>\n",
              "      <th>marital</th>\n",
              "      <th>education</th>\n",
              "      <th>default</th>\n",
              "      <th>balance</th>\n",
              "      <th>housing</th>\n",
              "      <th>loan</th>\n",
              "      <th>contact</th>\n",
              "      <th>day</th>\n",
              "      <th>month</th>\n",
              "      <th>duration</th>\n",
              "      <th>campaign</th>\n",
              "      <th>y</th>\n",
              "    </tr>\n",
              "  </thead>\n",
              "  <tbody>\n",
              "    <tr>\n",
              "      <th>0</th>\n",
              "      <td>58</td>\n",
              "      <td>management</td>\n",
              "      <td>married</td>\n",
              "      <td>tertiary</td>\n",
              "      <td>no</td>\n",
              "      <td>2143</td>\n",
              "      <td>yes</td>\n",
              "      <td>no</td>\n",
              "      <td>unknown</td>\n",
              "      <td>5</td>\n",
              "      <td>may</td>\n",
              "      <td>261</td>\n",
              "      <td>1</td>\n",
              "      <td>no</td>\n",
              "    </tr>\n",
              "    <tr>\n",
              "      <th>1</th>\n",
              "      <td>44</td>\n",
              "      <td>technician</td>\n",
              "      <td>single</td>\n",
              "      <td>secondary</td>\n",
              "      <td>no</td>\n",
              "      <td>29</td>\n",
              "      <td>yes</td>\n",
              "      <td>no</td>\n",
              "      <td>unknown</td>\n",
              "      <td>5</td>\n",
              "      <td>may</td>\n",
              "      <td>151</td>\n",
              "      <td>1</td>\n",
              "      <td>no</td>\n",
              "    </tr>\n",
              "    <tr>\n",
              "      <th>2</th>\n",
              "      <td>33</td>\n",
              "      <td>entrepreneur</td>\n",
              "      <td>married</td>\n",
              "      <td>secondary</td>\n",
              "      <td>no</td>\n",
              "      <td>2</td>\n",
              "      <td>yes</td>\n",
              "      <td>yes</td>\n",
              "      <td>unknown</td>\n",
              "      <td>5</td>\n",
              "      <td>may</td>\n",
              "      <td>76</td>\n",
              "      <td>1</td>\n",
              "      <td>no</td>\n",
              "    </tr>\n",
              "    <tr>\n",
              "      <th>3</th>\n",
              "      <td>47</td>\n",
              "      <td>blue-collar</td>\n",
              "      <td>married</td>\n",
              "      <td>unknown</td>\n",
              "      <td>no</td>\n",
              "      <td>1506</td>\n",
              "      <td>yes</td>\n",
              "      <td>no</td>\n",
              "      <td>unknown</td>\n",
              "      <td>5</td>\n",
              "      <td>may</td>\n",
              "      <td>92</td>\n",
              "      <td>1</td>\n",
              "      <td>no</td>\n",
              "    </tr>\n",
              "    <tr>\n",
              "      <th>4</th>\n",
              "      <td>33</td>\n",
              "      <td>unknown</td>\n",
              "      <td>single</td>\n",
              "      <td>unknown</td>\n",
              "      <td>no</td>\n",
              "      <td>1</td>\n",
              "      <td>no</td>\n",
              "      <td>no</td>\n",
              "      <td>unknown</td>\n",
              "      <td>5</td>\n",
              "      <td>may</td>\n",
              "      <td>198</td>\n",
              "      <td>1</td>\n",
              "      <td>no</td>\n",
              "    </tr>\n",
              "  </tbody>\n",
              "</table>\n",
              "</div>"
            ],
            "text/plain": [
              "   age           job  marital  education  ... month  duration campaign   y\n",
              "0   58    management  married   tertiary  ...   may       261        1  no\n",
              "1   44    technician   single  secondary  ...   may       151        1  no\n",
              "2   33  entrepreneur  married  secondary  ...   may        76        1  no\n",
              "3   47   blue-collar  married    unknown  ...   may        92        1  no\n",
              "4   33       unknown   single    unknown  ...   may       198        1  no\n",
              "\n",
              "[5 rows x 14 columns]"
            ]
          },
          "metadata": {
            "tags": []
          },
          "execution_count": 4
        }
      ]
    },
    {
      "cell_type": "markdown",
      "metadata": {
        "id": "5A9Tzl-3ZCDH"
      },
      "source": [
        "### Checking and Cleaning Unknown Datas"
      ]
    },
    {
      "cell_type": "markdown",
      "metadata": {
        "id": "yYUezljIXyZC"
      },
      "source": [
        "Before using dataset, I have checked the missing datas."
      ]
    },
    {
      "cell_type": "code",
      "metadata": {
        "colab": {
          "base_uri": "https://localhost:8080/"
        },
        "id": "3lKXlGTCn_Tm",
        "outputId": "0ddebc5f-f80c-490a-ab28-e01eed17514e"
      },
      "source": [
        "unknown_job = 0\r\n",
        "unknown_marital = 0 \r\n",
        "unknown_education = 0\r\n",
        "unknown_contact = 0\r\n",
        "for i in range(0,len(dataset)):\r\n",
        "  if dataset.iloc[i,1] == \"unknown\":\r\n",
        "    unknown_job += 1\r\n",
        "  if dataset.iloc[i,2] == \"unknown\":\r\n",
        "    unknown_marital += 1\r\n",
        "  if dataset.iloc[i,3] == \"unknown\":\r\n",
        "    unknown_education += 1\r\n",
        "  if dataset.iloc[i,8] == \"unknown\":\r\n",
        "    unknown_contact += 1\r\n",
        "print(\"unknown job ratio is :\" + str(unknown_job/len(dataset)))\r\n",
        "print(\"unknown marital ratio is :\" + str(unknown_marital/len(dataset)))\r\n",
        "print(\"unknown education ratio is :\" + str(unknown_education/len(dataset)))\r\n",
        "print(\"unknown contact ratio is :\" + str(unknown_contact/len(dataset)))"
      ],
      "execution_count": null,
      "outputs": [
        {
          "output_type": "stream",
          "text": [
            "unknown job ratio is :0.005875\n",
            "unknown marital ratio is :0.0\n",
            "unknown education ratio is :0.038275\n",
            "unknown contact ratio is :0.319125\n"
          ],
          "name": "stdout"
        }
      ]
    },
    {
      "cell_type": "markdown",
      "metadata": {
        "id": "TAYE4WEdcRk9"
      },
      "source": [
        "I need to replace \"unknown\" with \"nan\" in order to use it in remaining parts"
      ]
    },
    {
      "cell_type": "code",
      "metadata": {
        "id": "crg7H-UbcaRk"
      },
      "source": [
        "dataset = dataset.replace('unknown', np.nan)"
      ],
      "execution_count": null,
      "outputs": []
    },
    {
      "cell_type": "code",
      "metadata": {
        "colab": {
          "base_uri": "https://localhost:8080/"
        },
        "id": "07xT7BvVidxk",
        "outputId": "dc0c1cd1-d817-4f19-ad23-92c619f1f446"
      },
      "source": [
        "print(dataset.isnull().sum(axis = 0))"
      ],
      "execution_count": null,
      "outputs": [
        {
          "output_type": "stream",
          "text": [
            "age              0\n",
            "job            235\n",
            "marital          0\n",
            "education     1531\n",
            "default          0\n",
            "balance          0\n",
            "housing          0\n",
            "loan             0\n",
            "contact      12765\n",
            "day              0\n",
            "month            0\n",
            "duration         0\n",
            "campaign         0\n",
            "y                0\n",
            "dtype: int64\n"
          ],
          "name": "stdout"
        }
      ]
    },
    {
      "cell_type": "markdown",
      "metadata": {
        "id": "IHl9kZ1CYqjn"
      },
      "source": [
        "I have dropped the \"contact\" column, because it has 31.9% unknown datas"
      ]
    },
    {
      "cell_type": "code",
      "metadata": {
        "id": "Uf1z2MVnYCmi"
      },
      "source": [
        "dataset = dataset.drop(columns = ['contact'])"
      ],
      "execution_count": null,
      "outputs": []
    },
    {
      "cell_type": "markdown",
      "metadata": {
        "id": "Y3g__KuIFY-J"
      },
      "source": [
        "### Splitting the data into training and test sets"
      ]
    },
    {
      "cell_type": "markdown",
      "metadata": {
        "id": "52B00covXD-_"
      },
      "source": [
        "Dividing the columns as input attributes and output"
      ]
    },
    {
      "cell_type": "code",
      "metadata": {
        "id": "pNokHj8azMTn"
      },
      "source": [
        "X = pd.DataFrame(dataset.iloc[:,:-1].values)\r\n",
        "y = pd.DataFrame(dataset.iloc[:,-1].values)\r\n",
        "column_names = dataset.columns"
      ],
      "execution_count": null,
      "outputs": []
    },
    {
      "cell_type": "code",
      "metadata": {
        "id": "kySHlo2SziD5"
      },
      "source": [
        "X_train, X_test, y_train, y_test = train_test_split(X,y,random_state = 10, test_size = 0.05)\r\n",
        "y_train = y_train.rename(columns={0:'target'})\r\n",
        "y_test = y_test.rename(columns={0:'target'})\r\n",
        "dataset_train = pd.concat([X_train, y_train], axis = 1)\r\n",
        "dataset_test = pd.concat([X_test, y_test], axis = 1)\r\n",
        "dataset_train.columns = column_names\r\n",
        "dataset_test.columns = column_names"
      ],
      "execution_count": null,
      "outputs": []
    },
    {
      "cell_type": "markdown",
      "metadata": {
        "id": "2p-DceGYRwNa"
      },
      "source": [
        "## Dealing with unknown categorical data"
      ]
    },
    {
      "cell_type": "markdown",
      "metadata": {
        "id": "muHZ8Bb2veN3"
      },
      "source": [
        "In order to deal with data leakage, I have dealed with unknown columns seperately for test set and training set"
      ]
    },
    {
      "cell_type": "markdown",
      "metadata": {
        "id": "8LC3v-PjaGyN"
      },
      "source": [
        "FOR TRAINING SET : I need to deal with other missing values, for categorical data I have used most frequent method\r\n",
        "\r\n"
      ]
    },
    {
      "cell_type": "code",
      "metadata": {
        "id": "jHTqqqZ7aJ0Y"
      },
      "source": [
        "job_imputer = SimpleImputer(missing_values=np.nan, strategy='most_frequent')\r\n",
        "\r\n",
        "## Nan Values of Job type is replaced with most frequent one\r\n",
        "job_column = dataset_train.iloc[:,1].values\r\n",
        "job_column = job_column.reshape(-1,1)\r\n",
        "job_imputer.fit(job_column)\r\n",
        "job_column = job_imputer.transform(job_column)\r\n",
        "dataset_train.iloc[:,1] = job_column\r\n",
        "\r\n",
        "education_imputer = SimpleImputer(missing_values=np.nan, strategy='most_frequent')\r\n",
        "## Nan Values of Education is replaced with most frequent one\r\n",
        "education_column = dataset_train.iloc[:,3].values\r\n",
        "education_column = education_column.reshape(-1,1)\r\n",
        "education_imputer.fit(education_column)\r\n",
        "education_column = education_imputer.transform(education_column)\r\n",
        "dataset_train.iloc[:,3] = education_column"
      ],
      "execution_count": null,
      "outputs": []
    },
    {
      "cell_type": "markdown",
      "metadata": {
        "id": "EHt8OY_Ql3Zr"
      },
      "source": [
        "There is no nan value anymore in the training set"
      ]
    },
    {
      "cell_type": "code",
      "metadata": {
        "colab": {
          "base_uri": "https://localhost:8080/"
        },
        "id": "2WwcY17EbvM1",
        "outputId": "b1f392f3-07ea-476e-e32a-446f96e55cb3"
      },
      "source": [
        "print(dataset_train.isnull().sum(axis = 0))"
      ],
      "execution_count": null,
      "outputs": [
        {
          "output_type": "stream",
          "text": [
            "age          0\n",
            "job          0\n",
            "marital      0\n",
            "education    0\n",
            "default      0\n",
            "balance      0\n",
            "housing      0\n",
            "loan         0\n",
            "day          0\n",
            "month        0\n",
            "duration     0\n",
            "campaign     0\n",
            "y            0\n",
            "dtype: int64\n"
          ],
          "name": "stdout"
        }
      ]
    },
    {
      "cell_type": "markdown",
      "metadata": {
        "id": "YBnbY6XRUCmd"
      },
      "source": [
        "FOR TEST SET : I need to deal with other missing values, for categorical data I have used most frequent method"
      ]
    },
    {
      "cell_type": "code",
      "metadata": {
        "id": "3J6q-0ROT9RS"
      },
      "source": [
        "job_imputer = SimpleImputer(missing_values=np.nan, strategy='most_frequent')\r\n",
        "\r\n",
        "## Nan Values of Job type is replaced with most frequent one\r\n",
        "job_column = dataset_test.iloc[:,1].values\r\n",
        "job_column = job_column.reshape(-1,1)\r\n",
        "job_imputer.fit(job_column)\r\n",
        "job_column = job_imputer.transform(job_column)\r\n",
        "dataset_test.iloc[:,1] = job_column\r\n",
        "\r\n",
        "education_imputer = SimpleImputer(missing_values=np.nan, strategy='most_frequent')\r\n",
        "## Nan Values of Education is replaced with most frequent one\r\n",
        "education_column = dataset_test.iloc[:,3].values\r\n",
        "education_column = education_column.reshape(-1,1)\r\n",
        "education_imputer.fit(education_column)\r\n",
        "education_column = education_imputer.transform(education_column)\r\n",
        "dataset_test.iloc[:,3] = education_column"
      ],
      "execution_count": null,
      "outputs": []
    },
    {
      "cell_type": "markdown",
      "metadata": {
        "id": "ecMeI7QCT0qK"
      },
      "source": [
        "There is no nan value anymore in the test set."
      ]
    },
    {
      "cell_type": "code",
      "metadata": {
        "colab": {
          "base_uri": "https://localhost:8080/"
        },
        "id": "Q6dmeb3LURa5",
        "outputId": "58847d44-8d47-4921-b652-d268cfa4a32e"
      },
      "source": [
        "print(dataset_test.isnull().sum(axis = 0))"
      ],
      "execution_count": null,
      "outputs": [
        {
          "output_type": "stream",
          "text": [
            "age          0\n",
            "job          0\n",
            "marital      0\n",
            "education    0\n",
            "default      0\n",
            "balance      0\n",
            "housing      0\n",
            "loan         0\n",
            "day          0\n",
            "month        0\n",
            "duration     0\n",
            "campaign     0\n",
            "y            0\n",
            "dtype: int64\n"
          ],
          "name": "stdout"
        }
      ]
    },
    {
      "cell_type": "markdown",
      "metadata": {
        "id": "RdLFByGjEpTn"
      },
      "source": [
        "## Encoding the data"
      ]
    },
    {
      "cell_type": "markdown",
      "metadata": {
        "id": "hlEWQSZgWeXv"
      },
      "source": [
        "I have used onehotencoder for ['job' , 'marital' , 'education' , 'month'] attributes because these attributes does not have order; therefore, labelencoder will not be suitable for this case\r\n",
        "However, for ['housing' , 'loan', 'default'] attributes labelencoder is more suitable because these are binary values"
      ]
    },
    {
      "cell_type": "code",
      "metadata": {
        "id": "QP6PTkj00E91"
      },
      "source": [
        "## FOR TRAINING SET\r\n",
        "le = LabelEncoder()\r\n",
        "dataset_train.iloc[:,-1] = le.fit_transform(dataset_train.iloc[:,-1]) # for target\r\n",
        "dataset_train.iloc[:,-6] = le.fit_transform(dataset_train.iloc[:,-6]) # for loan\r\n",
        "dataset_train.iloc[:,-7] = le.fit_transform(dataset_train.iloc[:,-7]) # for housing\r\n",
        "dataset_train.iloc[:,-9] = le.fit_transform(dataset_train.iloc[:,-9]) # for default\r\n",
        "\r\n",
        "ct_x = ColumnTransformer( transformers = [('encoder', OneHotEncoder(), ['job', 'marital','education','month'])],\r\n",
        "                       remainder = 'passthrough')\r\n",
        "le = LabelEncoder()\r\n",
        "dataset_train.iloc[:,-1] = le.fit_transform(dataset_train.iloc[:,-1]) # for target\r\n",
        "dataset_train = (ct_x.fit_transform(dataset_train)) \r\n",
        "dataset_train = pd.DataFrame(dataset_train)\r\n",
        "\r\n",
        "## FOR TEST SET\r\n",
        "le = LabelEncoder()\r\n",
        "dataset_test.iloc[:,-6] = le.fit_transform(dataset_test.iloc[:,-6]) # for loan\r\n",
        "dataset_test.iloc[:,-7] = le.fit_transform(dataset_test.iloc[:,-7]) # for housing\r\n",
        "dataset_test.iloc[:,-9] = le.fit_transform(dataset_test.iloc[:,-9]) # for default\r\n",
        "ct_x = ColumnTransformer( transformers = [('encoder', OneHotEncoder(), ['job', 'marital','education','month'])],\r\n",
        "                       remainder = 'passthrough')\r\n",
        "le = LabelEncoder()\r\n",
        "dataset_test.iloc[:,-1] = le.fit_transform(dataset_test.iloc[:,-1]) # for target\r\n",
        "dataset_test = (ct_x.fit_transform(dataset_test)) \r\n",
        "dataset_test = pd.DataFrame(dataset_test)"
      ],
      "execution_count": null,
      "outputs": []
    },
    {
      "cell_type": "markdown",
      "metadata": {
        "id": "1Wt-1bW1XSjU"
      },
      "source": [
        "## Checking if the dataset is imbalanced"
      ]
    },
    {
      "cell_type": "markdown",
      "metadata": {
        "id": "FRGGgFJAXKHq"
      },
      "source": [
        "This blocks checks if the training data is imbalanced, and the result shows that we are dealing with imbalanced data. Therefore, in order to show how good our model we need more than accuracy rate."
      ]
    },
    {
      "cell_type": "code",
      "metadata": {
        "colab": {
          "base_uri": "https://localhost:8080/",
          "height": 392
        },
        "id": "60X2cw18Avd-",
        "outputId": "c5a1abf8-ed1c-4971-f629-38f43161468f"
      },
      "source": [
        "target_count = dataset_train.iloc[:,36].value_counts()\r\n",
        "print('No Class :', target_count[0])\r\n",
        "print('Yes Class :', target_count[1])\r\n",
        "\r\n",
        "target_count.plot(kind='bar', title='Count (target)');"
      ],
      "execution_count": null,
      "outputs": [
        {
          "output_type": "stream",
          "text": [
            "No Class : 35266\n",
            "Yes Class : 2734\n"
          ],
          "name": "stdout"
        },
        {
          "output_type": "display_data",
          "data": {
            "image/png": "[encoded data removed]",
            "text/plain": [
              "<Figure size 576x396 with 1 Axes>"
            ]
          },
          "metadata": {
            "tags": []
          }
        }
      ]
    },
    {
      "cell_type": "markdown",
      "metadata": {
        "id": "7LrMOJB-51MO"
      },
      "source": [
        "## Resampling"
      ]
    },
    {
      "cell_type": "markdown",
      "metadata": {
        "id": "AkPEwBxv91ur"
      },
      "source": [
        "![resampling.png](data:image/png;base64,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)"
      ]
    },
    {
      "cell_type": "markdown",
      "metadata": {
        "id": "RtU7utUf9RSP"
      },
      "source": [
        "One approach to addressing the problem of class imbalance is to randomly resample the training dataset. The two main approaches to randomly resampling an imbalanced dataset are to delete examples from the majority class, called undersampling, and to duplicate examples from the minority class, called oversampling. \r\n",
        "( https://machinelearningmastery.com/random-oversampling-and-undersampling-for-imbalanced-classification/ ) "
      ]
    },
    {
      "cell_type": "code",
      "metadata": {
        "colab": {
          "base_uri": "https://localhost:8080/",
          "height": 426
        },
        "id": "be2TwK0P-eST",
        "outputId": "3a01d782-d278-4b60-bd55-b9db69af8c68"
      },
      "source": [
        "dataset_test = dataset_test.rename(columns= {36:'target'})\r\n",
        "dataset_train = dataset_train.rename(columns= {36:'target'})\r\n",
        "# Class count\r\n",
        "count_class_0, count_class_1 = dataset_train.target.value_counts()\r\n",
        "\r\n",
        "# Divide by class\r\n",
        "df_class_0 = dataset_train[dataset_train['target'] == 0]\r\n",
        "df_class_1 = dataset_train[dataset_train['target'] == 1]\r\n",
        "\r\n",
        "df_class_0_under = df_class_0.sample(count_class_1)\r\n",
        "df_train_under = pd.concat([df_class_0_under, df_class_1], axis=0)\r\n",
        "\r\n",
        "print('Random under-sampling:')\r\n",
        "print(df_train_under.target.value_counts())\r\n",
        "\r\n",
        "df_train_under.target.value_counts().plot(kind='bar', title='Count (target)');\r\n",
        "plt.show()\r\n"
      ],
      "execution_count": null,
      "outputs": [
        {
          "output_type": "stream",
          "text": [
            "Random under-sampling:\n",
            "1    2734\n",
            "0    2734\n",
            "Name: target, dtype: int64\n"
          ],
          "name": "stdout"
        },
        {
          "output_type": "display_data",
          "data": {
            "image/png": "[encoded data removed]",
            "text/plain": [
              "<Figure size 576x396 with 1 Axes>"
            ]
          },
          "metadata": {
            "tags": []
          }
        }
      ]
    },
    {
      "cell_type": "code",
      "metadata": {
        "id": "Z_1Va2UhGIfg"
      },
      "source": [
        "X_train = df_train_under.iloc[:,:-1].values\r\n",
        "y_train = df_train_under.iloc[:,-1].values\r\n",
        "y_train = y_train.astype('int')\r\n",
        "\r\n",
        "X_test = dataset_test.iloc[:,:-1].values\r\n",
        "y_test = dataset_test.iloc[:,-1].values\r\n",
        "y_test = y_test.astype('int')"
      ],
      "execution_count": null,
      "outputs": []
    },
    {
      "cell_type": "markdown",
      "metadata": {
        "id": "VuAOYTIIFrcy"
      },
      "source": [
        "## Feature Scaling"
      ]
    },
    {
      "cell_type": "code",
      "metadata": {
        "id": "uAjRt8FIBUmq"
      },
      "source": [
        "from sklearn.preprocessing import StandardScaler\r\n",
        "\r\n",
        "X_train_stand = X_train.copy()\r\n",
        "X_test_stand = X_test.copy()\r\n",
        "\r\n",
        "for i in range(0,36):\r\n",
        "    \r\n",
        "    scale = StandardScaler().fit(X_train_stand[:,[i]])\r\n",
        "    \r\n",
        "    X_train[:,[i]] = scale.transform(X_train_stand[:,[i]])\r\n",
        "    X_test[:,[i]] = scale.transform(X_test_stand[:,[i]])"
      ],
      "execution_count": null,
      "outputs": []
    },
    {
      "cell_type": "code",
      "metadata": {
        "id": "lLrcrM2X4p50"
      },
      "source": [
        "#transformer = Normalizer().fit(X_train)\r\n",
        "#transformer\r\n",
        "#transformer.transform(X_train)\r\n",
        "#transformer.transform(X_test)"
      ],
      "execution_count": null,
      "outputs": []
    },
    {
      "cell_type": "markdown",
      "metadata": {
        "id": "pCLelWDWpsaz"
      },
      "source": [
        "## Model Selection"
      ]
    },
    {
      "cell_type": "markdown",
      "metadata": {
        "id": "lzlwJoqaSOGJ"
      },
      "source": [
        "In the dataset, we are searching for yes values therefore recall is more important then the precision.\r\n",
        "\r\n",
        "---\r\n",
        "*  **Precision** : What proportion of positive identifications was actually correct?\r\n",
        "\r\n",
        "\r\n",
        "\r\n",
        "\r\n",
        "![precision.PNG](data:image/png;base64,iVBORw0KGgoAAAANSUhEUgAAANoAAABHCAYAAABh5VlGAAAAAXNSR0IArs4c6QAAAARnQU1BAACxjwv8YQUAAAAJcEhZcwAADsMAAA7DAcdvqGQAAA1oSURBVHhe7Z2HlxRFHsfvT7l75wXv9MwcIBgQBBQEDGQVCRIEJKjIIkHynQJGEJUMIooBEZAs7C5hl/iQk3gPeXsCAo8TPHwSrOvPb/o39PT2zM5s6H077/d51Jup6qrq6uH37Qr9q97fOMMwahwTmmHEgAnNMGLAhGYYMWBCM4wYMKEZRgyY0AwjBkxohhEDJjTDiAETmmHEgAnNMGLAhGYYMWBCM4wYMKEZRgyY0AwjBkxohhEDJjSj1vj111+T4erVqylx719eYUIzKsWVK1fc1KmvRYYpU6dFBgSkHDx4yPXt199NmDjJDRo81HV9/En3dO++bnjBS1LHSyNHuQMHDogA8wETmlEpNm782v32d9eJQFRIr06ZKmmtW7dNxvkk7c/X31BONF98sTxZZuq011xhUZErKi72whY3d95817zFA27YsOEi6rqOCc3IGQTzgieAhQsXpfRSK1d9JaKZPn2Gn5Lgk08/E9EE8ypjxoyVMtQVZtq01+UYgqzrPZsJzcgZepgWLVql9DSIaNSoMSKMFStX+akJEEpvb1gYBvG0fKCVlGEoGUbr6/ZUj0iR1iVMaEbO6FAxCKJp2qy5COPYse/81AQ6dwtz4MBByd+qVZtyPRbxLl2fkOPjxk/0U+suJjQjZy5cuFCuhzl8+LCI4s5Gd5c7dujQocge6YPFH0qZMS+P9VOusWbNWjl2+x313ffff++n1l1MaEa1sPjDJSKMAQMH+ymZQXjPPz9Myqzy5nb0YAxFjx49KvO1m2+53XXo0NmtXr3GL1G3MaEZVQaRvDh8hIhmQcSiRhSUaXZ/S3f9X250bdo87O5rer+Uv+32eq5gxMi8WAAJYkIzqgyCaNW6jQiFYWI26Pys9UPt3OXLV7ze7Kq76vVy9HRRw8y6jgnNqDIHPXEhmiZNmmUtEp2fDRn6vJ+S35jQjCrz5ltv5ySa4Pzs3ffe91PzGxOaUSUQTZu2D4toFn2w2E/NjM7PKLNv3zd+an5jQjMqxZatW13xli2usLBIBNOgQSP5XlRU7LZs2ernSgVRcpyFDsp07NRFylBPvpNRaPpgMirgi8YPxh2ptiav3BlzXZmirfngO1eb8Bt26NhZlt+jwtA0Q0hEJuWkbCfJ2759J3EkzncyCo2n+fibdezYRe5AffsNEJHpk/7+A551t952h1u0aLG7fPmyXyoeEBjOq4RsxUa+wUOec40a3+2+++64n2pUBsTG7xn+1O/p0DzBkCl/vpDV0BFRITREFoQficksx/DCjvMH49ycl3DF+54NtI/hCmWOHDnqpxpGzVMloQHuMWrwJ06c8FPjgV4p157p3LlzbveePX7MMOKhykJjvqNCKy5OP6mN6u1I0uFDOigXDNmSa36lsuUMIxNVFlpJSUlSaGfOnBGxkZ+hJJNenEP7PZOY2wUN+MyZs27CxMne/K+zG/ZigexZCgqOvPv3/8sNfHaw+L3d26SZGzduQlIInIM6Bw0akrK4gcfBwIGD3N9uutU91r6jW7bsC5lngpSZkljMKQqtdDHHnDhpsrgC1a9/pxs1ekzKvJM69LpeeWWK2+P1isS5RrZzZLpZGEbOQsPItRfCwHWH7PQZ70iaCG1aIn/7Dp1kB+7cufMl/uGSj6S+b/bvl/hHHy+VMlpHUMjbfQHPmTvPnfrhB7dr926Jvz9rtrSBvLpIo0I7ffq0PJ9ZsuRjd/78ebd16zbXr19/aT9QRtvGTl6F8iyQDH3uBZm70SbykqZ1E3/VEyllu3Z9Uj5nvDPTffvtARE1x2lXJsrKTshSdi7BFm3yg5yEllya9QJG/mCrh+S9Dzt37krpVYDjhL1793rGe0S+r1u3XnoJ9h9RDoNW2rV7VERC2vnzF1y9vzcUR1U1XhXnggULJQ70TqTpufEgZ7Ej2JYVK1aKkJXCwmIpo0LjfE917+m6deue0h6+P/HkU657j17JdOqlbIuWD7qzZ89KGu1jmZr0ioS2bv0Gue5MoWDESylh+fIv/dJGXSYnoWGwGBti4ZMQZVwYJsZ3R70GKcYLLERQ1xSvTu7YPNwkqGiOHz/uvvxyhXynNwvCuYLnCwtthyd44vfce58M53jOR1uDZXiWQx4V2smTpyQ+bFiBxINoT3vixCmJq9CGDHkuWSefvXr1lvTwtcbFa6+/YaGaQ3VT5TlaFCq0lg+0TjFyYOhHXbfeVs899lhHmYO9OLzAjR03Xs7DlvYZM2ZKnnXr1/ulotF2qdA4L20kTQOi+/rrTXIcioq2SLoKbefOnRJnSBlG6yIPqNA4bxB970VtCa1P32dcnz79Ygu98zwU1MAD9JyEFjawTDBURGxh49uwYaPUxavF0rHY9+yuSNhhoR06dFjOxyOH7dtLkj3No492SAo+LLTDh49I/FlP8GGG+3usyAMqNHrSICpIbUc6iou9ntvLm0ugBzbqPjUqNEKYc+f+K5v77rq7SbneDsPaum2b27S5UM5HjxfMg4hYoVTCQlPjDPLe+7NS8iSF5hvwTz/9zzW8s7Fr0eLBlHPxvX6DRjJXvHjxZ0lLCi10DuKkV9Sj6YpsLiHTIxOj7pBRaBgbxsN/OIbEXZ94WCBBOHb6zJmkB4amKZR/992EN8nIkaOTx/bs3ev+esNNyfrp8cgza/YcLy5Z3PgJk5JDPIxeX0em8zDayUohK4EKaaNHvyz1EnSOtnlzUbm04MLD0qWfSNq8efOlbsKOHYlhZq9efeT8lOUT3z5tB2mGESaj0HQxIBxIT4cabTAwhFRBAca4zeu52rZ7xHXv3tP16z9AhBncnYsBa0/BqiB7nehhVBzhc9AmRIX4WL3s0aOXa3zXPfI+wfUbNsj5dXVQg7aL+hBn27aPyMof7SLgWa7C0YWXYIi61ky/TRzoTSFT4Jr0MwxpmQLlaouo9qQLQfRaNegNUYP+LjVJhUPHqMZV1CjNFwxRkM6ryQgIKwznOXnypCst3SF5gvUE6yaQlzkan8R3797j9u3bJ98VvnMe7Y2Cx4D4sWPHJISPab3BAOG0in6bmoRzszDDDSQl6GMZ73vnLo+7bt16JB/RBIemlA/fOMKBvWes5sZ9nbQzqj1Rgccywfal6zCCgVXqKBusLrKaoxl1A26GDRo2lp59+/bt4qlz6VLiuSXGdOnSJcnDOzpwHiANT5og3Cx++eUXOYYwieuNCccBHWWwqzoXsVVVmJSnHTwW4vy0gzZxPaTTtqWffCrOA1x/EMqSj+uhLKLVa+Jzm/dbMQpiJwjxmsCElkd8/vkyeciPASklJaViXOHFnh9//FHSowxr/oKFcmzsuAl+yjXIz7HmXn3B81TEpk2bqzyspv06H17y0cd+aiosloUXq4C2Mn+nLNceht6dYyWlpX5K9WJCyxMwpF5P95EhdpAZM94RA2LhKQiC4c3C4Z6GeP/+A6XM2rXr/NRrMI/mGC82zUVoq75aLc9Kq0JQLEHXtOA10JtFedPgvUQ5hr5R16z14nNbE5jQ8gSMkD91FDR+DKin/ywxbHzkYz4XNjrSGzRsJI7cP/+ceKwR5K23p0t9LBqFy2aCed3wghF+rHIwV+fcnTp1TTk3aXrdCA1XvzC60h3V26m3Eo95cHavCUxoeUTY7jE+PHAwolOnEm5kQaKEUrojYcwDBg5KES0wz+EYIde5DEJjd3tVULG8/sabybZzA2lyX+bX3HGMGwNlS3ckvHwUrlFf/jpnztyM9VQFE1oes2tXYscDiyHZGtDMme9JGXoGthLhj4rvKXHSWVBgUSVXEBrGXlkQhIqFNqhDBPHRXs+cCW4K9NL85RqcylkModfD1Y8VSoaNn332uZ+7ZjCh5TEqGpausyF452fhggf9xOndZs+eK04FFQmW44giHJYtW+769E3s2AiHbG4C5EMsiELfnIUbHU4OFe1w0F66R8+n3SjvmtgfyXXx10ZxCYxaHKluTGh5Coap8zM2v2aDGvMf/ni9++H0aT81N3iwj5NA64fauqZNm4uTwY1/u8X9/ro/SVuiwqxZs/3S6dH5WfhvpeHoUFb2Hz8WjQ45a8IrP1tMaHkKosGnFAMrKyvzUzOjd355s1gWvUwU6Xo0hp+sfEYdy6ZHU7GMn5D6t9JwyaOOdFC39tJRq6hxYULLU44e/bcYF/OZbAwZ9GH0xImT/ZTqY+XKVVkPYcPQft2JwWOCXLh48aLsi6QsL2aqLUxoeQpeEhhX1HJ2FBizek7ozobqhL+BxvyoMrCbHY+PG268OWex4OfKNdGrZXvDqQlMaHkEiwMExKXvtseTgnjUxlbA+PS4PrTle7YCzZavvJ5o3PjyniaZ2LBxo7SDQLtoH3NANrpG/c3rIFqOhQ/K6guieJ1EbWBCyyNYgidgUNe++3vbPPGku6NrGS0nb/xKI8zKsnrNWjd58j/9WHawM57dztq+wqIit7mw0G32PivqndjmNGnSPxLX5YlTr6sigdYUJjQjFliIqO0tRLWJCc2IjdqcI9U2JjTDiAETmmHEgAnNMGLAhGYYMWBCM4wYMKEZRgyY0AwjBkxohhEDJjTDiAETmmHEgAnNMGoc5/4PY+JzgHHJgTYAAAAASUVORK5CYII=)\r\n",
        "*  **Recall** : What proportion of actual positives was identified correctly?\r\n",
        "\r\n",
        "\r\n",
        "![recall.PNG](data:image/png;base64,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)"
      ]
    },
    {
      "cell_type": "markdown",
      "metadata": {
        "id": "XBNbsmf5XlyJ"
      },
      "source": [
        "###**SVC** Model"
      ]
    },
    {
      "cell_type": "code",
      "metadata": {
        "colab": {
          "base_uri": "https://localhost:8080/"
        },
        "id": "msfhX5IQv7OH",
        "outputId": "f17a40dc-6f8b-459e-cb77-f9a3d9280cda"
      },
      "source": [
        "\r\n",
        "#\r\n",
        "param_grid = {'C': [0.1, 1, 10, 100, 1000],  'gamma': ['auto'], 'kernel': ['rbf']}    \r\n",
        "grid = GridSearchCV(SVC(), param_grid, refit = True, verbose = 3) \r\n",
        " \r\n",
        "grid.fit(X_train, y_train) \r\n",
        "print (grid.best_params_)"
      ],
      "execution_count": null,
      "outputs": [
        {
          "output_type": "stream",
          "text": [
            "Fitting 5 folds for each of 5 candidates, totalling 25 fits\n",
            "[CV] C=0.1, gamma=auto, kernel=rbf ...................................\n"
          ],
          "name": "stdout"
        },
        {
          "output_type": "stream",
          "text": [
            "[Parallel(n_jobs=1)]: Using backend SequentialBackend with 1 concurrent workers.\n"
          ],
          "name": "stderr"
        },
        {
          "output_type": "stream",
          "text": [
            "[CV] ....... C=0.1, gamma=auto, kernel=rbf, score=0.832, total=   1.4s\n",
            "[CV] C=0.1, gamma=auto, kernel=rbf ...................................\n"
          ],
          "name": "stdout"
        },
        {
          "output_type": "stream",
          "text": [
            "[Parallel(n_jobs=1)]: Done   1 out of   1 | elapsed:    1.4s remaining:    0.0s\n"
          ],
          "name": "stderr"
        },
        {
          "output_type": "stream",
          "text": [
            "[CV] ....... C=0.1, gamma=auto, kernel=rbf, score=0.850, total=   1.3s\n",
            "[CV] C=0.1, gamma=auto, kernel=rbf ...................................\n"
          ],
          "name": "stdout"
        },
        {
          "output_type": "stream",
          "text": [
            "[Parallel(n_jobs=1)]: Done   2 out of   2 | elapsed:    2.7s remaining:    0.0s\n"
          ],
          "name": "stderr"
        },
        {
          "output_type": "stream",
          "text": [
            "[CV] ....... C=0.1, gamma=auto, kernel=rbf, score=0.816, total=   1.3s\n",
            "[CV] C=0.1, gamma=auto, kernel=rbf ...................................\n",
            "[CV] ....... C=0.1, gamma=auto, kernel=rbf, score=0.824, total=   1.3s\n",
            "[CV] C=0.1, gamma=auto, kernel=rbf ...................................\n",
            "[CV] ....... C=0.1, gamma=auto, kernel=rbf, score=0.840, total=   1.3s\n",
            "[CV] C=1, gamma=auto, kernel=rbf .....................................\n",
            "[CV] ......... C=1, gamma=auto, kernel=rbf, score=0.836, total=   1.0s\n",
            "[CV] C=1, gamma=auto, kernel=rbf .....................................\n",
            "[CV] ......... C=1, gamma=auto, kernel=rbf, score=0.868, total=   1.0s\n",
            "[CV] C=1, gamma=auto, kernel=rbf .....................................\n",
            "[CV] ......... C=1, gamma=auto, kernel=rbf, score=0.844, total=   1.0s\n",
            "[CV] C=1, gamma=auto, kernel=rbf .....................................\n",
            "[CV] ......... C=1, gamma=auto, kernel=rbf, score=0.852, total=   1.0s\n",
            "[CV] C=1, gamma=auto, kernel=rbf .....................................\n",
            "[CV] ......... C=1, gamma=auto, kernel=rbf, score=0.865, total=   1.0s\n",
            "[CV] C=10, gamma=auto, kernel=rbf ....................................\n",
            "[CV] ........ C=10, gamma=auto, kernel=rbf, score=0.841, total=   1.0s\n",
            "[CV] C=10, gamma=auto, kernel=rbf ....................................\n",
            "[CV] ........ C=10, gamma=auto, kernel=rbf, score=0.850, total=   1.0s\n",
            "[CV] C=10, gamma=auto, kernel=rbf ....................................\n",
            "[CV] ........ C=10, gamma=auto, kernel=rbf, score=0.841, total=   1.0s\n",
            "[CV] C=10, gamma=auto, kernel=rbf ....................................\n",
            "[CV] ........ C=10, gamma=auto, kernel=rbf, score=0.844, total=   1.0s\n",
            "[CV] C=10, gamma=auto, kernel=rbf ....................................\n",
            "[CV] ........ C=10, gamma=auto, kernel=rbf, score=0.855, total=   0.9s\n",
            "[CV] C=100, gamma=auto, kernel=rbf ...................................\n",
            "[CV] ....... C=100, gamma=auto, kernel=rbf, score=0.828, total=   1.2s\n",
            "[CV] C=100, gamma=auto, kernel=rbf ...................................\n",
            "[CV] ....... C=100, gamma=auto, kernel=rbf, score=0.837, total=   1.2s\n",
            "[CV] C=100, gamma=auto, kernel=rbf ...................................\n",
            "[CV] ....... C=100, gamma=auto, kernel=rbf, score=0.818, total=   1.2s\n",
            "[CV] C=100, gamma=auto, kernel=rbf ...................................\n",
            "[CV] ....... C=100, gamma=auto, kernel=rbf, score=0.812, total=   1.2s\n",
            "[CV] C=100, gamma=auto, kernel=rbf ...................................\n",
            "[CV] ....... C=100, gamma=auto, kernel=rbf, score=0.822, total=   1.3s\n",
            "[CV] C=1000, gamma=auto, kernel=rbf ..................................\n",
            "[CV] ...... C=1000, gamma=auto, kernel=rbf, score=0.793, total=   2.1s\n",
            "[CV] C=1000, gamma=auto, kernel=rbf ..................................\n",
            "[CV] ...... C=1000, gamma=auto, kernel=rbf, score=0.804, total=   2.1s\n",
            "[CV] C=1000, gamma=auto, kernel=rbf ..................................\n",
            "[CV] ...... C=1000, gamma=auto, kernel=rbf, score=0.796, total=   2.0s\n",
            "[CV] C=1000, gamma=auto, kernel=rbf ..................................\n",
            "[CV] ...... C=1000, gamma=auto, kernel=rbf, score=0.800, total=   2.1s\n",
            "[CV] C=1000, gamma=auto, kernel=rbf ..................................\n",
            "[CV] ...... C=1000, gamma=auto, kernel=rbf, score=0.820, total=   2.2s\n"
          ],
          "name": "stdout"
        },
        {
          "output_type": "stream",
          "text": [
            "[Parallel(n_jobs=1)]: Done  25 out of  25 | elapsed:   33.0s finished\n"
          ],
          "name": "stderr"
        },
        {
          "output_type": "stream",
          "text": [
            "{'C': 1, 'gamma': 'auto', 'kernel': 'rbf'}\n"
          ],
          "name": "stdout"
        }
      ]
    },
    {
      "cell_type": "code",
      "metadata": {
        "colab": {
          "base_uri": "https://localhost:8080/",
          "height": 782
        },
        "id": "3UXkM0Cssl0g",
        "outputId": "66dd9139-2f13-4087-d86b-1a15a21d3be5"
      },
      "source": [
        "classifier_SVC = SVC(C = 10, gamma = 0.00001, kernel = 'rbf', probability = True)\r\n",
        "visualizer_SVC = ClassificationReport(classifier_SVC, classes=['no','yes'])\r\n",
        "visualizer_SVC.fit(X_train, y_train) #\r\n",
        "y_pred = visualizer_SVC.predict(X_test)\r\n",
        "visualizer_SVC.score(X_test, y_test) \r\n",
        "g = visualizer_SVC.poof() \r\n",
        "print(\"accuracy of SVC:\\t\" + str(accuracy_score(y_test,y_pred)))\r\n",
        "confusion_matrix_SVC = confusion_matrix(y_test,y_pred)\r\n",
        "\r\n",
        "plt.title(\"Confusion Matrix of SVC\", fontsize =15)\r\n",
        "sns.heatmap(confusion_matrix_SVC, annot=True, fmt='g')"
      ],
      "execution_count": null,
      "outputs": [
        {
          "output_type": "display_data",
          "data": {
            "image/png": "[encoded data removed]",
            "text/plain": [
              "<Figure size 576x396 with 2 Axes>"
            ]
          },
          "metadata": {
            "tags": []
          }
        },
        {
          "output_type": "stream",
          "text": [
            "accuracy of SVC:\t0.9005\n"
          ],
          "name": "stdout"
        },
        {
          "output_type": "execute_result",
          "data": {
            "text/plain": [
              "<matplotlib.axes._subplots.AxesSubplot at 0x7f7581a2f3d0>"
            ]
          },
          "metadata": {
            "tags": []
          },
          "execution_count": 22
        },
        {
          "output_type": "display_data",
          "data": {
            "image/png": "[encoded data removed]",
            "text/plain": [
              "<Figure size 576x396 with 2 Axes>"
            ]
          },
          "metadata": {
            "tags": []
          }
        }
      ]
    },
    {
      "cell_type": "markdown",
      "metadata": {
        "id": "HZBFoYn5_M7O"
      },
      "source": [
        "###MLP"
      ]
    },
    {
      "cell_type": "code",
      "metadata": {
        "colab": {
          "base_uri": "https://localhost:8080/",
          "height": 782
        },
        "id": "WVRV1TcI_sWK",
        "outputId": "3988dd79-205c-452d-b1ac-787e085b03d5"
      },
      "source": [
        "clf = MLPClassifier(alpha=1e-4,\r\n",
        "                    hidden_layer_sizes=(74,50,10), random_state=1)\r\n",
        "clf.fit(X_train, y_train)\r\n",
        "visualizer_MLP = ClassificationReport(clf, classes=['no','yes'])\r\n",
        "visualizer_MLP.fit(X_train, y_train) #\r\n",
        "y_pred4 = visualizer_MLP.predict(X_test)\r\n",
        "visualizer_MLP.score(X_test, y_test) \r\n",
        "g = visualizer_MLP.poof() \r\n",
        "confusion_matrix_MLP = confusion_matrix(y_test,y_pred4)\r\n",
        "print(\"accuracy of MLP:\\t\" + str(accuracy_score(y_test,y_pred4)))\r\n",
        "plt.title(\"Confusion Matrix of MLP\", fontsize =15)\r\n",
        "sns.heatmap(confusion_matrix_MLP, annot=True, fmt='g')"
      ],
      "execution_count": null,
      "outputs": [
        {
          "output_type": "display_data",
          "data": {
            "image/png": "[encoded data removed]",
            "text/plain": [
              "<Figure size 576x396 with 2 Axes>"
            ]
          },
          "metadata": {
            "tags": []
          }
        },
        {
          "output_type": "stream",
          "text": [
            "accuracy of MLP:\t0.7995\n"
          ],
          "name": "stdout"
        },
        {
          "output_type": "execute_result",
          "data": {
            "text/plain": [
              "<matplotlib.axes._subplots.AxesSubplot at 0x7f75792122d0>"
            ]
          },
          "metadata": {
            "tags": []
          },
          "execution_count": 23
        },
        {
          "output_type": "display_data",
          "data": {
            "image/png": "[encoded data removed]",
            "text/plain": [
              "<Figure size 576x396 with 2 Axes>"
            ]
          },
          "metadata": {
            "tags": []
          }
        }
      ]
    },
    {
      "cell_type": "markdown",
      "metadata": {
        "id": "ADlRBjtKpyb3"
      },
      "source": [
        "###Random Forest Classifier"
      ]
    },
    {
      "cell_type": "code",
      "metadata": {
        "id": "YwEA4ylZwwXx",
        "colab": {
          "base_uri": "https://localhost:8080/"
        },
        "outputId": "020ec1de-47b5-4447-bf84-05849e5a4468"
      },
      "source": [
        "rfc = RandomForestClassifier(n_jobs=-1 , oob_score = True) \r\n",
        "\r\n",
        "param_grid = { \r\n",
        "    'n_estimators': [50,100,200, 700],\r\n",
        "    'max_features': ['auto', 'sqrt', 'log2'],\r\n",
        "    'criterion' : ['gini'],\r\n",
        "    'class_weight' : ['balanced', None]\r\n",
        "}\r\n",
        "\r\n",
        "CV_rfc = GridSearchCV(estimator=rfc, param_grid=param_grid, cv= 5,scoring = 'f1')\r\n",
        "CV_rfc.fit(X_train, y_train)\r\n",
        "print (CV_rfc.best_params_)"
      ],
      "execution_count": null,
      "outputs": [
        {
          "output_type": "stream",
          "text": [
            "{'class_weight': 'balanced', 'criterion': 'gini', 'max_features': 'auto', 'n_estimators': 700}\n"
          ],
          "name": "stdout"
        }
      ]
    },
    {
      "cell_type": "code",
      "metadata": {
        "colab": {
          "base_uri": "https://localhost:8080/",
          "height": 782
        },
        "id": "-6iOtdXZqLVK",
        "outputId": "0ec80c5f-1124-4616-f3d1-52806e346c51"
      },
      "source": [
        "rfc = RandomForestClassifier(class_weight= None, criterion= 'gini', max_features= 'sqrt', n_estimators= 700)\r\n",
        "visualizer_RFC = ClassificationReport(rfc, classes=['no','yes'])\r\n",
        "visualizer_RFC.fit(X_train, y_train) #\r\n",
        "y_pred2 = visualizer_RFC.predict(X_test)\r\n",
        "visualizer_RFC.score(X_test, y_test) \r\n",
        "g = visualizer_RFC.poof() \r\n",
        "\r\n",
        "print(\"accuracy of RFC:\\t\" + str(accuracy_score(y_test,y_pred2)))\r\n",
        "confusion_matrix_RFC = confusion_matrix(y_test,y_pred2)\r\n",
        "plt.title(\"Confusion Matrix of Random Forest\", fontsize =15)\r\n",
        "sns.heatmap(confusion_matrix_RFC, annot=True, fmt='g')"
      ],
      "execution_count": null,
      "outputs": [
        {
          "output_type": "display_data",
          "data": {
            "image/png": "[encoded data removed]",
            "text/plain": [
              "<Figure size 576x396 with 2 Axes>"
            ]
          },
          "metadata": {
            "tags": []
          }
        },
        {
          "output_type": "stream",
          "text": [
            "accuracy of RFC:\t0.857\n"
          ],
          "name": "stdout"
        },
        {
          "output_type": "execute_result",
          "data": {
            "text/plain": [
              "<matplotlib.axes._subplots.AxesSubplot at 0x7f7582357790>"
            ]
          },
          "metadata": {
            "tags": []
          },
          "execution_count": 25
        },
        {
          "output_type": "display_data",
          "data": {
            "image/png": "[encoded data removed]",
            "text/plain": [
              "<Figure size 576x396 with 2 Axes>"
            ]
          },
          "metadata": {
            "tags": []
          }
        }
      ]
    },
    {
      "cell_type": "markdown",
      "metadata": {
        "id": "11eR6dGyXqsd"
      },
      "source": [
        "###Naive Bayes Model"
      ]
    },
    {
      "cell_type": "code",
      "metadata": {
        "colab": {
          "base_uri": "https://localhost:8080/",
          "height": 782
        },
        "id": "LWYMiAc8wVVT",
        "outputId": "08214ea9-a7f2-4fd0-beb9-20e6a93f620b"
      },
      "source": [
        "gnb = GaussianNB()\r\n",
        "visualizer_GNB = ClassificationReport(gnb, classes=['no','yes'])\r\n",
        "visualizer_GNB.fit(X_train, y_train) #\r\n",
        "y_pred3 = gnb.predict(X_test)\r\n",
        "visualizer_GNB.score(X_test, y_test) \r\n",
        "g = visualizer_GNB.poof() \r\n",
        "\r\n",
        "print(\"accuracy of GNB:\\t\" + str(accuracy_score(y_test,y_pred3)))\r\n",
        "confusion_matrix_GNB = confusion_matrix(y_test,y_pred3)\r\n",
        "plt.title(\"Confusion Matrix of GaussianNB\", fontsize =15)\r\n",
        "sns.heatmap(confusion_matrix_GNB, annot=True, fmt='g')"
      ],
      "execution_count": null,
      "outputs": [
        {
          "output_type": "display_data",
          "data": {
            "image/png": "[encoded data removed]",
            "text/plain": [
              "<Figure size 576x396 with 2 Axes>"
            ]
          },
          "metadata": {
            "tags": []
          }
        },
        {
          "output_type": "stream",
          "text": [
            "accuracy of GNB:\t0.918\n"
          ],
          "name": "stdout"
        },
        {
          "output_type": "execute_result",
          "data": {
            "text/plain": [
              "<matplotlib.axes._subplots.AxesSubplot at 0x7f7578f76490>"
            ]
          },
          "metadata": {
            "tags": []
          },
          "execution_count": 26
        },
        {
          "output_type": "display_data",
          "data": {
            "image/png": "[encoded data removed]",
            "text/plain": [
              "<Figure size 576x396 with 2 Axes>"
            ]
          },
          "metadata": {
            "tags": []
          }
        }
      ]
    },
    {
      "cell_type": "markdown",
      "metadata": {
        "id": "FaqJq4bZtU3u"
      },
      "source": [
        "ROC CURVE"
      ]
    },
    {
      "cell_type": "markdown",
      "metadata": {
        "id": "q30umiuGWoCn"
      },
      "source": [
        "As can be seen in Figure, the best model is RandomForestClassifier. Area Under the Curve percentage is the highest one."
      ]
    },
    {
      "cell_type": "code",
      "metadata": {
        "colab": {
          "base_uri": "https://localhost:8080/",
          "height": 376
        },
        "id": "mMlPochbSLSD",
        "outputId": "0c637561-e817-4fa4-bddd-56289f6fdaba"
      },
      "source": [
        "import sklearn.metrics as metrics\r\n",
        "# calculate the fpr and tpr for all thresholds of the classification\r\n",
        "probs_RFC = visualizer_RFC.predict_proba(X_test)\r\n",
        "preds_RFC = probs_RFC[:,1]\r\n",
        "fpr_RFC, tpr_RFC, threshold_RFC = metrics.roc_curve(y_test, preds_RFC)\r\n",
        "roc_auc_RFC = metrics.auc(fpr_RFC, tpr_RFC)\r\n",
        "\r\n",
        "probs_GNB = visualizer_GNB.predict_proba(X_test)\r\n",
        "preds_GNB = probs_GNB[:,1]\r\n",
        "fpr_GNB, tpr_GNB, threshold_GNB = metrics.roc_curve(y_test, preds_GNB)\r\n",
        "roc_auc_GNB = metrics.auc(fpr_GNB, tpr_GNB)\r\n",
        "\r\n",
        "probs_SVC = visualizer_SVC.predict_proba(X_test)\r\n",
        "preds_SVC = probs_SVC[:,1]\r\n",
        "fpr_SVC, tpr_SVC, threshold_SVC = metrics.roc_curve(y_test, preds_SVC)\r\n",
        "roc_auc_SVC = metrics.auc(fpr_SVC, tpr_SVC)\r\n",
        "\r\n",
        "probs_MLP = visualizer_MLP.predict_proba(X_test)\r\n",
        "preds_MLP = probs_MLP[:,1]\r\n",
        "fpr_MLP, tpr_MLP, threshold_MLP = metrics.roc_curve(y_test, preds_MLP)\r\n",
        "roc_auc_MLP = metrics.auc(fpr_MLP, tpr_MLP)\r\n",
        "\r\n",
        "import matplotlib.pyplot as plt\r\n",
        "plt.title('Receiver Operating Characteristic')\r\n",
        "plt.plot(fpr_SVC, tpr_SVC, 'b', label = 'SVC-AUC = %0.2f' % roc_auc_SVC)\r\n",
        "plt.plot(fpr_RFC, tpr_RFC, 'r', label = 'RFC-AUC = %0.2f' % roc_auc_RFC)\r\n",
        "plt.plot(fpr_GNB, tpr_GNB, 'g', label = 'GNB-AUC = %0.2f' % roc_auc_GNB)\r\n",
        "plt.plot(fpr_MLP, tpr_MLP, 'y', label = 'MLP-AUC = %0.2f' % roc_auc_MLP)\r\n",
        "plt.legend(loc = 'lower right')\r\n",
        "plt.plot([0, 1], [0, 1],'r--')\r\n",
        "plt.xlim([0, 1])\r\n",
        "plt.ylim([0, 1])\r\n",
        "plt.ylabel('True Positive Rate')\r\n",
        "plt.xlabel('False Positive Rate')\r\n",
        "plt.show()"
      ],
      "execution_count": null,
      "outputs": [
        {
          "output_type": "display_data",
          "data": {
            "image/png": "[encoded data removed]",
            "text/plain": [
              "<Figure size 576x396 with 1 Axes>"
            ]
          },
          "metadata": {
            "tags": []
          }
        }
      ]
    },
    {
      "cell_type": "markdown",
      "metadata": {
        "id": "755uft1DGCln"
      },
      "source": [
        "## K-Fold Cross Validation"
      ]
    },
    {
      "cell_type": "markdown",
      "metadata": {
        "id": "goVl3fYcba7N"
      },
      "source": [
        "K-Fold cross validation is applied to RandomForest because it gave the best outputs."
      ]
    },
    {
      "cell_type": "code",
      "metadata": {
        "colab": {
          "base_uri": "https://localhost:8080/"
        },
        "id": "ICsMRIBWcXtK",
        "outputId": "d892a4bd-5bda-4b4e-b429-a1aa70917d6d"
      },
      "source": [
        "X = np.concatenate((X_train, X_test), axis=0)\r\n",
        "y = np.concatenate((y_train,y_test), axis= 0)\r\n",
        "scores = []\r\n",
        "scoresf1 = []\r\n",
        "best_rfc = RandomForestClassifier(class_weight= None, criterion= 'gini', max_features= 'sqrt', n_estimators= 700)\r\n",
        "cv = KFold(n_splits=5)\r\n",
        "for train_index, test_index in cv.split(X):\r\n",
        "    X_train, X_test, y_train, y_test = X[train_index], X[test_index], y[train_index], y[test_index]\r\n",
        "    best_rfc.fit(X_train, y_train)\r\n",
        "    y_pred_rfc = best_rfc.predict(X_test)\r\n",
        "    scores.append(best_rfc.score(X_test, y_test)),\r\n",
        "    scoresf1.append(f1_score(y_test, y_pred_rfc, average='macro'))\r\n",
        "\r\n",
        "print(\"F1 scores:\")\r\n",
        "print(scoresf1)\r\n",
        "print(\"Accuracy scores:\")\r\n",
        "print(scores)\r\n",
        "\r\n",
        "average_f1 = 0\r\n",
        "average_Accuracy = 0 \r\n",
        "for i in range(0,5):\r\n",
        "  average_f1 = average_f1 + scoresf1[i]\r\n",
        "  average_Accuracy = average_Accuracy + scores[i]\r\n",
        "average_Accuracy = average_Accuracy / 5\r\n",
        "average_f1 = average_f1 / 5\r\n",
        "\r\n",
        "print(\"Average Accuracy\")\r\n",
        "print(average_Accuracy)\r\n",
        "print(\"Average F1 Score :\")\r\n",
        "print(average_f1)"
      ],
      "execution_count": null,
      "outputs": [
        {
          "output_type": "stream",
          "text": [
            "F1 scores:\n",
            "[0.45947901591895807, 0.8109293590209621, 0.42093023255813955, 0.8254519474333717, 0.7084131613018778]\n",
            "Accuracy scores:\n",
            "[0.8500669344042838, 0.8741633199464525, 0.7269076305220884, 0.8372404554588078, 0.8626925653047556]\n",
            "Average Accuracy\n",
            "0.8302141811272777\n",
            "Average F1 Score :\n",
            "0.6450407432466619\n"
          ],
          "name": "stdout"
        }
      ]
    },
    {
      "cell_type": "markdown",
      "metadata": {
        "id": "ii98dawM67vo"
      },
      "source": [
        "## Feature Importance"
      ]
    },
    {
      "cell_type": "markdown",
      "metadata": {
        "id": "f0T91-WfFT5h"
      },
      "source": [
        "As can be seen from the figure, duration has a very high impact on the output "
      ]
    },
    {
      "cell_type": "code",
      "metadata": {
        "id": "ZIeVyR54F8Jo",
        "colab": {
          "base_uri": "https://localhost:8080/",
          "height": 376
        },
        "outputId": "10207681-29ea-45ab-890d-20422ed38feb"
      },
      "source": [
        "importance = best_rfc.feature_importances_\r\n",
        "# summarize feature importance\r\n",
        "# plot feature importance\r\n",
        "plt.title(\"Feature Importance\")\r\n",
        "plt.xlabel(\"Index of the Feature\")\r\n",
        "plt.ylabel(\"Importance\")\r\n",
        "plt.bar([x for x in range(len(importance))], importance)\r\n",
        "plt.show()"
      ],
      "execution_count": null,
      "outputs": [
        {
          "output_type": "display_data",
          "data": {
            "image/png": "[encoded data removed]",
            "text/plain": [
              "<Figure size 576x396 with 1 Axes>"
            ]
          },
          "metadata": {
            "tags": []
          }
        }
      ]
    }
  ]
}